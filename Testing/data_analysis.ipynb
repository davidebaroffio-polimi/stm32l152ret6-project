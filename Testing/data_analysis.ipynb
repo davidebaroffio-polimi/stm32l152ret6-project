{
 "cells": [
  {
   "cell_type": "code",
   "execution_count": 563,
   "metadata": {},
   "outputs": [],
   "source": [
    "import matplotlib.pyplot as plt\n",
    "import pandas as pd"
   ]
  },
  {
   "cell_type": "code",
   "execution_count": 564,
   "metadata": {},
   "outputs": [],
   "source": [
    "df_np_mem = pd.concat([#pd.read_csv(\"../../../../results/nopass_mem_reduced.csv\"),\n",
    "                       #pd.read_csv(\"../../../../results/nopass_mem.csv\"),\n",
    "                       pd.read_csv(\"../../../../results/nopass_mem_optimized.csv\")])\n",
    "\n",
    "df_p_mem = pd.concat([ #pd.read_csv(\"../../../../results/pass_mem_reduced.csv\"),\n",
    "                       #pd.read_csv(\"../../../../results/pass_mem.csv\"),\n",
    "                       pd.read_csv(\"../../../../results/pass_mem_optimized.csv\")])\n",
    "\n",
    "df_np_reg = pd.concat([#pd.read_csv(\"../../../../results/nopass_reg.csv\"),\n",
    "                       pd.read_csv(\"../../../../results/nopass_reg_optimized.csv\")])\n",
    "\n",
    "df_p_reg = pd.concat([ #pd.read_csv(\"../../../../results/pass_reg.csv\"),\n",
    "                       pd.read_csv(\"../../../../results/pass_reg_optimized.csv\")])"
   ]
  },
  {
   "cell_type": "code",
   "execution_count": 565,
   "metadata": {},
   "outputs": [],
   "source": [
    "df_np_reg_errcodes = df_np_reg.groupby('code').size()\n",
    "df_p_reg_errcodes = df_p_reg.groupby('code').size()\n",
    "df_np_mem_errcodes = df_np_mem.groupby('code').size()\n",
    "df_p_mem_errcodes = df_p_mem.groupby('code').size()"
   ]
  },
  {
   "cell_type": "code",
   "execution_count": 566,
   "metadata": {},
   "outputs": [],
   "source": [
    "for err_code in df_p_reg_errcodes.keys():\n",
    "    if not err_code in df_np_reg_errcodes:\n",
    "        df_np_reg_errcodes[err_code] = 0\n",
    "    if not err_code in df_np_mem_errcodes:\n",
    "        df_np_mem_errcodes[err_code] = 0"
   ]
  },
  {
   "cell_type": "code",
   "execution_count": 567,
   "metadata": {},
   "outputs": [],
   "source": [
    "tot_np_mem_errcodes = df_np_mem_errcodes.sum()\n",
    "tot_p_mem_errcodes = df_p_mem_errcodes.sum()\n",
    "tot_np_reg_errcodes = df_np_reg_errcodes.sum()\n",
    "tot_p_reg_errcodes = df_p_reg_errcodes.sum()"
   ]
  },
  {
   "cell_type": "code",
   "execution_count": 568,
   "metadata": {},
   "outputs": [
    {
     "name": "stdout",
     "output_type": "stream",
     "text": [
      "Code\t Registers no pass\t Registers\t\t Improv.\t Memory no pass\t\t Memory\t\t\t Improv.\n",
      "-3 \t 290 \t (2.419%) \t 141 \t (1.082%) \t 2.235x \t 39 \t (0.327%) \t 21 \t (0.163%) \t 2.010x\n",
      "-2 \t 117 \t (0.976%) \t 9 \t (0.069%) \t 14.126x \t 46 \t (0.385%) \t 10 \t (0.077%) \t 4.979x\n",
      "-1 \t 806 \t (6.723%) \t 525 \t (4.030%) \t 1.668x \t 295 \t (2.472%) \t 166 \t (1.285%) \t 1.923x\n",
      "0 \t 10775 \t (89.882%) \t 11090 \t (85.137%) \t 1.056x \t 11553 \t (96.816%) \t 12629 \t (97.786%) \t 0.990x\n",
      "1 \t 0 \t (0.000%) \t 595 \t (4.568%) \t 0.000x \t 0 \t (0.000%) \t 51 \t (0.395%) \t 0.000x\n",
      "2 \t 0 \t (0.000%) \t 666 \t (5.113%) \t 0.000x \t 0 \t (0.000%) \t 38 \t (0.294%) \t 0.000x\n"
     ]
    }
   ],
   "source": [
    "dict_results = dict()\n",
    "dict_results['code'] = []\n",
    "dict_results['faults_reg_nopass'] = []\n",
    "dict_results['faults_reg_pass'] = []\n",
    "dict_results['faults_mem_nopass'] = []\n",
    "dict_results[\"faults_mem_pass\"] = []\n",
    "\n",
    "print(\"Code\\t Registers no pass\\t Registers\\t\\t Improv.\\t Memory no pass\\t\\t Memory\\t\\t\\t Improv.\")\n",
    "for err_code in df_np_reg_errcodes.keys():\n",
    "    dict_results['code'].append(err_code)\n",
    "    dict_results['faults_reg_nopass'].append(df_np_reg_errcodes[err_code])\n",
    "    dict_results['faults_reg_pass'].append(df_p_reg_errcodes[err_code])\n",
    "    dict_results[\"faults_mem_nopass\"].append(df_np_mem_errcodes[err_code])\n",
    "    dict_results[\"faults_mem_pass\"].append(df_p_mem_errcodes[err_code])\n",
    "    print(err_code, \"\\t\", \n",
    "        df_np_reg_errcodes[err_code], \"\\t\", '(%.3f'%(df_np_reg_errcodes[err_code]/tot_np_reg_errcodes * 100)+\"%)\", \n",
    "        \"\\t\", \n",
    "        df_p_reg_errcodes[err_code], \"\\t\", '(%.3f'%(df_p_reg_errcodes[err_code]/tot_p_reg_errcodes * 100)+\"%)\",\n",
    "        \"\\t\",\n",
    "        '%.3f'%((df_np_reg_errcodes[err_code]/tot_np_reg_errcodes)/(df_p_reg_errcodes[err_code]/tot_p_reg_errcodes))+\"x\",\n",
    "        \"\\t\",\n",
    "        df_np_mem_errcodes[err_code], \"\\t\", '(%.3f'%(df_np_mem_errcodes[err_code]/tot_np_mem_errcodes * 100)+\"%)\",\n",
    "        \"\\t\", \n",
    "        df_p_mem_errcodes[err_code], \"\\t\", '(%.3f'%(df_p_mem_errcodes[err_code]/tot_p_mem_errcodes * 100)+\"%)\",\n",
    "        \"\\t\",\n",
    "        '%.3f'%((df_np_mem_errcodes[err_code]/tot_np_mem_errcodes)/(df_p_mem_errcodes[err_code]/tot_p_mem_errcodes))+\"x\",)"
   ]
  },
  {
   "cell_type": "code",
   "execution_count": 569,
   "metadata": {},
   "outputs": [],
   "source": [
    "df = pd.DataFrame.from_dict(dict_results)\n",
    "df['percent_faults_reg_nopass'] = df['faults_reg_nopass']/tot_np_reg_errcodes\n",
    "df['percent_faults_reg_pass'] = df['faults_reg_pass']/tot_p_reg_errcodes\n",
    "df['percent_faults_mem_nopass'] = df['faults_mem_nopass']/tot_np_mem_errcodes\n",
    "df['percent_faults_mem_pass'] = df['faults_mem_pass']/tot_p_mem_errcodes"
   ]
  },
  {
   "cell_type": "code",
   "execution_count": 570,
   "metadata": {},
   "outputs": [],
   "source": [
    "df[\"improv_reg\"] = df['percent_faults_reg_nopass'] / df['percent_faults_reg_pass']\n",
    "df[\"improv_mem\"] = df['percent_faults_mem_nopass'] / df['percent_faults_mem_pass']\n",
    "df[\"Type\"] = pd.Series(['Loop', 'SDC', 'Detected (HW)', 'No effect', 'Detected (EDDI)', 'Detected (CFCSS)'])\n",
    "\n",
    "df = df.set_index(\"code\")"
   ]
  },
  {
   "cell_type": "code",
   "execution_count": 571,
   "metadata": {},
   "outputs": [
    {
     "data": {
      "text/html": [
       "<div>\n",
       "<style scoped>\n",
       "    .dataframe tbody tr th:only-of-type {\n",
       "        vertical-align: middle;\n",
       "    }\n",
       "\n",
       "    .dataframe tbody tr th {\n",
       "        vertical-align: top;\n",
       "    }\n",
       "\n",
       "    .dataframe thead th {\n",
       "        text-align: right;\n",
       "    }\n",
       "</style>\n",
       "<table border=\"1\" class=\"dataframe\">\n",
       "  <thead>\n",
       "    <tr style=\"text-align: right;\">\n",
       "      <th></th>\n",
       "      <th>faults_reg_nopass</th>\n",
       "      <th>faults_reg_pass</th>\n",
       "      <th>faults_mem_nopass</th>\n",
       "      <th>faults_mem_pass</th>\n",
       "      <th>percent_faults_reg_nopass</th>\n",
       "      <th>percent_faults_reg_pass</th>\n",
       "      <th>percent_faults_mem_nopass</th>\n",
       "      <th>percent_faults_mem_pass</th>\n",
       "      <th>improv_reg</th>\n",
       "      <th>improv_mem</th>\n",
       "      <th>Type</th>\n",
       "    </tr>\n",
       "    <tr>\n",
       "      <th>code</th>\n",
       "      <th></th>\n",
       "      <th></th>\n",
       "      <th></th>\n",
       "      <th></th>\n",
       "      <th></th>\n",
       "      <th></th>\n",
       "      <th></th>\n",
       "      <th></th>\n",
       "      <th></th>\n",
       "      <th></th>\n",
       "      <th></th>\n",
       "    </tr>\n",
       "  </thead>\n",
       "  <tbody>\n",
       "    <tr>\n",
       "      <th>-3</th>\n",
       "      <td>290</td>\n",
       "      <td>141</td>\n",
       "      <td>39</td>\n",
       "      <td>21</td>\n",
       "      <td>0.024191</td>\n",
       "      <td>0.010825</td>\n",
       "      <td>0.003268</td>\n",
       "      <td>0.001626</td>\n",
       "      <td>2.234823</td>\n",
       "      <td>2.009972</td>\n",
       "      <td>Loop</td>\n",
       "    </tr>\n",
       "    <tr>\n",
       "      <th>-2</th>\n",
       "      <td>117</td>\n",
       "      <td>9</td>\n",
       "      <td>46</td>\n",
       "      <td>10</td>\n",
       "      <td>0.009760</td>\n",
       "      <td>0.000691</td>\n",
       "      <td>0.003855</td>\n",
       "      <td>0.000774</td>\n",
       "      <td>14.125626</td>\n",
       "      <td>4.978547</td>\n",
       "      <td>SDC</td>\n",
       "    </tr>\n",
       "    <tr>\n",
       "      <th>-1</th>\n",
       "      <td>806</td>\n",
       "      <td>525</td>\n",
       "      <td>295</td>\n",
       "      <td>166</td>\n",
       "      <td>0.067234</td>\n",
       "      <td>0.040304</td>\n",
       "      <td>0.024721</td>\n",
       "      <td>0.012853</td>\n",
       "      <td>1.668169</td>\n",
       "      <td>1.923352</td>\n",
       "      <td>No effect</td>\n",
       "    </tr>\n",
       "    <tr>\n",
       "      <th>0</th>\n",
       "      <td>10775</td>\n",
       "      <td>11090</td>\n",
       "      <td>11553</td>\n",
       "      <td>12629</td>\n",
       "      <td>0.898815</td>\n",
       "      <td>0.851374</td>\n",
       "      <td>0.968156</td>\n",
       "      <td>0.977855</td>\n",
       "      <td>1.055723</td>\n",
       "      <td>0.990081</td>\n",
       "      <td>Detected (HW)</td>\n",
       "    </tr>\n",
       "    <tr>\n",
       "      <th>1</th>\n",
       "      <td>0</td>\n",
       "      <td>595</td>\n",
       "      <td>0</td>\n",
       "      <td>51</td>\n",
       "      <td>0.000000</td>\n",
       "      <td>0.045678</td>\n",
       "      <td>0.000000</td>\n",
       "      <td>0.003949</td>\n",
       "      <td>0.000000</td>\n",
       "      <td>0.000000</td>\n",
       "      <td>Detected (EDDI)</td>\n",
       "    </tr>\n",
       "    <tr>\n",
       "      <th>2</th>\n",
       "      <td>0</td>\n",
       "      <td>666</td>\n",
       "      <td>0</td>\n",
       "      <td>38</td>\n",
       "      <td>0.000000</td>\n",
       "      <td>0.051129</td>\n",
       "      <td>0.000000</td>\n",
       "      <td>0.002942</td>\n",
       "      <td>0.000000</td>\n",
       "      <td>0.000000</td>\n",
       "      <td>Detected (CFCSS)</td>\n",
       "    </tr>\n",
       "  </tbody>\n",
       "</table>\n",
       "</div>"
      ],
      "text/plain": [
       "      faults_reg_nopass  faults_reg_pass  faults_mem_nopass  faults_mem_pass  \\\n",
       "code                                                                           \n",
       "-3                  290              141                 39               21   \n",
       "-2                  117                9                 46               10   \n",
       "-1                  806              525                295              166   \n",
       " 0                10775            11090              11553            12629   \n",
       " 1                    0              595                  0               51   \n",
       " 2                    0              666                  0               38   \n",
       "\n",
       "      percent_faults_reg_nopass  percent_faults_reg_pass  \\\n",
       "code                                                       \n",
       "-3                     0.024191                 0.010825   \n",
       "-2                     0.009760                 0.000691   \n",
       "-1                     0.067234                 0.040304   \n",
       " 0                     0.898815                 0.851374   \n",
       " 1                     0.000000                 0.045678   \n",
       " 2                     0.000000                 0.051129   \n",
       "\n",
       "      percent_faults_mem_nopass  percent_faults_mem_pass  improv_reg  \\\n",
       "code                                                                   \n",
       "-3                     0.003268                 0.001626    2.234823   \n",
       "-2                     0.003855                 0.000774   14.125626   \n",
       "-1                     0.024721                 0.012853    1.668169   \n",
       " 0                     0.968156                 0.977855    1.055723   \n",
       " 1                     0.000000                 0.003949    0.000000   \n",
       " 2                     0.000000                 0.002942    0.000000   \n",
       "\n",
       "      improv_mem              Type  \n",
       "code                                \n",
       "-3      2.009972              Loop  \n",
       "-2      4.978547               SDC  \n",
       "-1      1.923352         No effect  \n",
       " 0      0.990081     Detected (HW)  \n",
       " 1      0.000000   Detected (EDDI)  \n",
       " 2      0.000000  Detected (CFCSS)  "
      ]
     },
     "execution_count": 571,
     "metadata": {},
     "output_type": "execute_result"
    }
   ],
   "source": [
    "df"
   ]
  },
  {
   "cell_type": "code",
   "execution_count": 572,
   "metadata": {},
   "outputs": [
    {
     "data": {
      "text/plain": [
       "<AxesSubplot: title={'center': 'Percentage of faults in registers with and without protection'}, xlabel='Type'>"
      ]
     },
     "execution_count": 572,
     "metadata": {},
     "output_type": "execute_result"
    },
    {
     "data": {
      "image/png": "[encoded data removed]",
      "text/plain": [
       "<Figure size 640x480 with 1 Axes>"
      ]
     },
     "metadata": {},
     "output_type": "display_data"
    }
   ],
   "source": [
    "plt = df.drop([0,1,2]).plot(x=\"Type\", y=[\"percent_faults_reg_nopass\", \"percent_faults_reg_pass\"], kind=\"bar\")\n",
    "plt.legend([\"% Register faults\", \"% Register faults with protection\"])\n",
    "plt.set_title(\"Percentage of faults in registers with and without protection\")\n",
    "plt"
   ]
  },
  {
   "cell_type": "code",
   "execution_count": 573,
   "metadata": {},
   "outputs": [
    {
     "data": {
      "text/plain": [
       "<AxesSubplot: title={'center': 'Percentage of faults in memory with and without protection'}, xlabel='Type'>"
      ]
     },
     "execution_count": 573,
     "metadata": {},
     "output_type": "execute_result"
    },
    {
     "data": {
      "image/png": "[encoded data removed]",
      "text/plain": [
       "<Figure size 640x480 with 1 Axes>"
      ]
     },
     "metadata": {},
     "output_type": "display_data"
    }
   ],
   "source": [
    "plt = df.drop([0,1,2]).plot(x=\"Type\", y=[\"percent_faults_mem_nopass\", \"percent_faults_mem_pass\"], kind=\"bar\")\n",
    "plt.legend([\"% Memory faults\", \"% Memory faults with protection\"])\n",
    "plt.set_title(\"Percentage of faults in memory with and without protection\")\n",
    "plt"
   ]
  }
 ],
 "metadata": {
  "kernelspec": {
   "display_name": "venv",
   "language": "python",
   "name": "python3"
  },
  "language_info": {
   "codemirror_mode": {
    "name": "ipython",
    "version": 3
   },
   "file_extension": ".py",
   "mimetype": "text/x-python",
   "name": "python",
   "nbconvert_exporter": "python",
   "pygments_lexer": "ipython3",
   "version": "3.10.6"
  },
  "orig_nbformat": 4,
  "vscode": {
   "interpreter": {
    "hash": "789ecf59647cc197d319502b5f5a8374996d5cdf8dfc968a3aebc710a7f2e5fe"
   }
  }
 },
 "nbformat": 4,
 "nbformat_minor": 2
}

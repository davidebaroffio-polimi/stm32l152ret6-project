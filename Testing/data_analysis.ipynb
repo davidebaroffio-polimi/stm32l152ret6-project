{
 "cells": [
  {
   "cell_type": "code",
   "execution_count": 44,
   "metadata": {},
   "outputs": [],
   "source": [
    "import matplotlib.pyplot as plt\n",
    "import pandas as pd"
   ]
  },
  {
   "cell_type": "code",
   "execution_count": 45,
   "metadata": {},
   "outputs": [],
   "source": [
    "df_np_reg = pd.read_csv(\"../../../../results/nopass_reg.csv\")\n",
    "df_p_reg = pd.read_csv(\"../../../../results/pass_reg.csv\")"
   ]
  },
  {
   "cell_type": "code",
   "execution_count": 46,
   "metadata": {},
   "outputs": [],
   "source": [
    "df_np_reg_errcodes = df_np_reg.groupby('code').size()\n",
    "df_p_reg_errcodes = df_p_reg.groupby('code').size()"
   ]
  },
  {
   "cell_type": "code",
   "execution_count": 47,
   "metadata": {},
   "outputs": [],
   "source": [
    "for err_code in df_p_reg_errcodes.keys():\n",
    "    if not err_code in df_np_reg_errcodes:\n",
    "        df_np_reg_errcodes[err_code] = 0"
   ]
  },
  {
   "cell_type": "code",
   "execution_count": 48,
   "metadata": {},
   "outputs": [
    {
     "name": "stdout",
     "output_type": "stream",
     "text": [
      "-3 198 64\n",
      "-2 5 3\n",
      "-1 829 422\n",
      "0 13868 13054\n",
      "1 0 324\n",
      "2 0 1052\n"
     ]
    }
   ],
   "source": [
    "for err_code in df_np_reg_errcodes.keys():\n",
    "    print(err_code, \"\\t\", df_np_reg_errcodes[err_code], \"\\t\", df_p_reg_errcodes[err_code])"
   ]
  }
 ],
 "metadata": {
  "kernelspec": {
   "display_name": "venv",
   "language": "python",
   "name": "python3"
  },
  "language_info": {
   "codemirror_mode": {
    "name": "ipython",
    "version": 3
   },
   "file_extension": ".py",
   "mimetype": "text/x-python",
   "name": "python",
   "nbconvert_exporter": "python",
   "pygments_lexer": "ipython3",
   "version": "3.10.6"
  },
  "orig_nbformat": 4,
  "vscode": {
   "interpreter": {
    "hash": "789ecf59647cc197d319502b5f5a8374996d5cdf8dfc968a3aebc710a7f2e5fe"
   }
  }
 },
 "nbformat": 4,
 "nbformat_minor": 2
}

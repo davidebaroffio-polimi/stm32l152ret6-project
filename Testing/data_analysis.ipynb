{
 "cells": [
  {
   "cell_type": "code",
   "execution_count": 103,
   "metadata": {},
   "outputs": [],
   "source": [
    "import matplotlib.pyplot as plt\n",
    "import pandas as pd"
   ]
  },
  {
   "cell_type": "code",
   "execution_count": 104,
   "metadata": {},
   "outputs": [],
   "source": [
    "df_np_mem = pd.concat([pd.read_csv(\"../../../../results/nopass_mem_reduced.csv\"),\n",
    "                       pd.read_csv(\"../../../../results/nopass_mem.csv\")])\n",
    "df_p_mem = pd.concat([pd.read_csv(\"../../../../results/pass_mem_reduced.csv\"),\n",
    "                       pd.read_csv(\"../../../../results/pass_mem.csv\")])\n",
    "df_np_reg = pd.read_csv(\"../../../../results/nopass_reg.csv\")\n",
    "df_p_reg = pd.read_csv(\"../../../../results/pass_reg.csv\")"
   ]
  },
  {
   "cell_type": "code",
   "execution_count": 105,
   "metadata": {},
   "outputs": [],
   "source": [
    "df_np_reg_errcodes = df_np_reg.groupby('code').size()\n",
    "df_p_reg_errcodes = df_p_reg.groupby('code').size()\n",
    "df_np_mem_errcodes = df_np_mem.groupby('code').size()\n",
    "df_p_mem_errcodes = df_p_mem.groupby('code').size()"
   ]
  },
  {
   "cell_type": "code",
   "execution_count": 106,
   "metadata": {},
   "outputs": [],
   "source": [
    "for err_code in df_p_reg_errcodes.keys():\n",
    "    if not err_code in df_np_reg_errcodes:\n",
    "        df_np_reg_errcodes[err_code] = 0\n",
    "    if not err_code in df_np_mem_errcodes:\n",
    "        df_np_mem_errcodes[err_code] = 0"
   ]
  },
  {
   "cell_type": "code",
   "execution_count": 107,
   "metadata": {},
   "outputs": [
    {
     "name": "stdout",
     "output_type": "stream",
     "text": [
      "Code\tRegisters (nopass)\tRegisters\tMemory\t\tMemory (nopass)\n",
      "-3 \t 198 \t\t\t 64 \t\t 98 \t\t 98\n",
      "-2 \t 5 \t\t\t 3 \t\t 73 \t\t 68\n",
      "-1 \t 829 \t\t\t 422 \t\t 561 \t\t 477\n",
      "0 \t 13868 \t\t\t 13054 \t\t 29074 \t\t 29008\n",
      "1 \t 0 \t\t\t 324 \t\t 0 \t\t 87\n",
      "2 \t 0 \t\t\t 1052 \t\t 0 \t\t 89\n"
     ]
    }
   ],
   "source": [
    "print(\"Code\\tRegisters (nopass)\\tRegisters\\tMemory (nopass)\\t\\tMemory\")\n",
    "for err_code in df_np_reg_errcodes.keys():\n",
    "    print(err_code, \"\\t\", df_np_reg_errcodes[err_code], \"\\t\\t\\t\", df_p_reg_errcodes[err_code], \"\\t\\t\",\n",
    "          df_np_mem_errcodes[err_code], \"\\t\\t\", df_p_mem_errcodes[err_code])"
   ]
  }
 ],
 "metadata": {
  "kernelspec": {
   "display_name": "venv",
   "language": "python",
   "name": "python3"
  },
  "language_info": {
   "codemirror_mode": {
    "name": "ipython",
    "version": 3
   },
   "file_extension": ".py",
   "mimetype": "text/x-python",
   "name": "python",
   "nbconvert_exporter": "python",
   "pygments_lexer": "ipython3",
   "version": "3.10.6"
  },
  "orig_nbformat": 4,
  "vscode": {
   "interpreter": {
    "hash": "789ecf59647cc197d319502b5f5a8374996d5cdf8dfc968a3aebc710a7f2e5fe"
   }
  }
 },
 "nbformat": 4,
 "nbformat_minor": 2
}

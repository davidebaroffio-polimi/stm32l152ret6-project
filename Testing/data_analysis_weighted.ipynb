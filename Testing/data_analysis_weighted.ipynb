{
 "cells": [
  {
   "cell_type": "code",
   "execution_count": 1,
   "metadata": {},
   "outputs": [],
   "source": [
    "import matplotlib.pyplot as plt\n",
    "import pandas as pd\n",
    "import numpy as np"
   ]
  },
  {
   "cell_type": "code",
   "execution_count": 2,
   "metadata": {},
   "outputs": [],
   "source": [
    "df_nopass = pd.concat([pd.read_csv(\"results/out_nopass/faults_memory.csv\"),\n",
    "                       pd.read_csv(\"results/out_nopass/faults_registers.csv\")])\n",
    "\n",
    "df_eddi_cfcss = pd.concat([pd.read_csv(\"results/out_eddi_cfcss/faults_memory.csv\"),\n",
    "                           pd.read_csv(\"results/out_eddi_cfcss/faults_registers.csv\")]+\n",
    "                           [pd.read_csv(\"results/out_eddi_cfcss/faults_memory_new.csv\"),\n",
    "                           pd.read_csv(\"results/out_eddi_cfcss/faults_registers_new.csv\")])\n",
    "\n",
    "df_eddi_rasm_inter = pd.concat([pd.read_csv(\"results/out_eddi_rasm_inter/faults_memory.csv\"),\n",
    "                                pd.read_csv(\"results/out_eddi_rasm_inter/faults_registers.csv\")]+\n",
    "                                [pd.read_csv(\"results/out_eddi_rasm_inter/faults_memory_new.csv\"),\n",
    "                                pd.read_csv(\"results/out_eddi_rasm_inter/faults_registers_new.csv\")])\n",
    "\n",
    "df_eddi_rasm = pd.concat([pd.read_csv(\"results/out_eddi_rasm/faults_memory.csv\"),\n",
    "                          pd.read_csv(\"results/out_eddi_rasm/faults_registers.csv\")]+\n",
    "                          [pd.read_csv(\"results/out_eddi_rasm/faults_memory_new.csv\"),\n",
    "                          pd.read_csv(\"results/out_eddi_rasm/faults_registers_new.csv\")])\n",
    "\n",
    "df_fdsc_cfcss = pd.concat([pd.read_csv(\"results/out_fdsc_cfcss/faults_memory.csv\"),\n",
    "                           pd.read_csv(\"results/out_fdsc_cfcss/faults_registers.csv\")]+\n",
    "                           [pd.read_csv(\"results/out_fdsc_cfcss/faults_memory_new.csv\"),\n",
    "                           pd.read_csv(\"results/out_fdsc_cfcss/faults_registers_new.csv\")])\n",
    "\n",
    "df_fdsc_rasm_inter = pd.concat([pd.read_csv(\"results/out_fdsc_rasm_inter/faults_memory.csv\"),\n",
    "                                pd.read_csv(\"results/out_fdsc_rasm_inter/faults_registers.csv\")]+\n",
    "                                [pd.read_csv(\"results/out_fdsc_rasm_inter/faults_memory_new.csv\"),\n",
    "                                pd.read_csv(\"results/out_fdsc_rasm_inter/faults_registers_new.csv\")])\n",
    "\n",
    "df_fdsc_rasm = pd.concat([pd.read_csv(\"results/out_fdsc_rasm/faults_memory.csv\"),\n",
    "                          pd.read_csv(\"results/out_fdsc_rasm/faults_registers.csv\")]+\n",
    "                          [pd.read_csv(\"results/out_fdsc_rasm/faults_memory_new.csv\"),\n",
    "                          pd.read_csv(\"results/out_fdsc_rasm/faults_registers_new.csv\")])\n",
    "\n",
    "df_seddi_cfcss = pd.concat([pd.read_csv(\"results/out_seddi_cfcss/faults_memory.csv\"),\n",
    "                           pd.read_csv(\"results/out_seddi_cfcss/faults_registers.csv\")]+\n",
    "                           [pd.read_csv(\"results/out_seddi_cfcss/faults_memory_new.csv\"),\n",
    "                           pd.read_csv(\"results/out_seddi_cfcss/faults_registers_new.csv\")])\n",
    "\n",
    "df_seddi_rasm_inter = pd.concat([pd.read_csv(\"results/out_seddi_rasm_inter/faults_memory.csv\"),\n",
    "                                pd.read_csv(\"results/out_seddi_rasm_inter/faults_registers.csv\")]+\n",
    "                                [pd.read_csv(\"results/out_seddi_rasm_inter/faults_memory_new.csv\"),\n",
    "                                pd.read_csv(\"results/out_seddi_rasm_inter/faults_registers_new.csv\")])\n",
    "\n",
    "df_seddi_rasm = pd.concat([pd.read_csv(\"results/out_seddi_rasm/faults_memory.csv\"),\n",
    "                          pd.read_csv(\"results/out_seddi_rasm/faults_registers.csv\")]+\n",
    "                          [pd.read_csv(\"results/out_seddi_rasm/faults_memory_new.csv\"),\n",
    "                          pd.read_csv(\"results/out_seddi_rasm/faults_registers_new.csv\")])\n",
    "\n",
    "\n",
    "dataframes = {\"eddi_cfcss\": df_eddi_cfcss,\n",
    "              \"eddi_rasm\": df_eddi_rasm,\n",
    "              \"eddi_rasm_inter\": df_eddi_rasm_inter,\n",
    "              \"fdsc_cfcss\": df_fdsc_cfcss,\n",
    "              \"fdsc_rasm\": df_fdsc_rasm,\n",
    "              \"fdsc_rasm_inter\": df_fdsc_rasm_inter,\n",
    "              \"seddi_cfcss\": df_seddi_cfcss,\n",
    "              \"seddi_rasm\": df_seddi_rasm,\n",
    "              \"seddi_rasm_inter\": df_seddi_rasm_inter\n",
    "              }\n",
    "\n",
    "dataframes[\"nopass\"] = df_nopass"
   ]
  },
  {
   "cell_type": "code",
   "execution_count": 3,
   "metadata": {},
   "outputs": [],
   "source": [
    "df_new = pd.DataFrame()\n",
    "\n",
    "for key in dataframes:\n",
    "    df = dataframes[key]\n",
    "    sz_tot = df.shape[0]\n",
    "    df_errcodes = df.groupby('code')\n",
    "    sz_df_errcodes = df_errcodes.size()\n",
    "    df_new[key] = sz_df_errcodes"
   ]
  },
  {
   "cell_type": "code",
   "execution_count": 4,
   "metadata": {},
   "outputs": [
    {
     "data": {
      "text/plain": [
       "eddi_cfcss          37047.0\n",
       "eddi_rasm           36174.0\n",
       "eddi_rasm_inter     30181.0\n",
       "fdsc_cfcss          42488.0\n",
       "fdsc_rasm           41643.0\n",
       "fdsc_rasm_inter     34241.0\n",
       "seddi_cfcss         38975.0\n",
       "seddi_rasm          36710.0\n",
       "seddi_rasm_inter    30471.0\n",
       "nopass              30000.0\n",
       "dtype: float64"
      ]
     },
     "execution_count": 4,
     "metadata": {},
     "output_type": "execute_result"
    }
   ],
   "source": [
    "df_new.sum()"
   ]
  },
  {
   "cell_type": "code",
   "execution_count": 5,
   "metadata": {},
   "outputs": [
    {
     "data": {
      "text/html": [
       "<div>\n",
       "<style scoped>\n",
       "    .dataframe tbody tr th:only-of-type {\n",
       "        vertical-align: middle;\n",
       "    }\n",
       "\n",
       "    .dataframe tbody tr th {\n",
       "        vertical-align: top;\n",
       "    }\n",
       "\n",
       "    .dataframe thead th {\n",
       "        text-align: right;\n",
       "    }\n",
       "</style>\n",
       "<table border=\"1\" class=\"dataframe\">\n",
       "  <thead>\n",
       "    <tr style=\"text-align: right;\">\n",
       "      <th>code</th>\n",
       "      <th>-3</th>\n",
       "      <th>-2</th>\n",
       "      <th>-1</th>\n",
       "      <th>1</th>\n",
       "      <th>2</th>\n",
       "    </tr>\n",
       "  </thead>\n",
       "  <tbody>\n",
       "    <tr>\n",
       "      <th>eddi_cfcss</th>\n",
       "      <td>287.0</td>\n",
       "      <td>7.0</td>\n",
       "      <td>576.0</td>\n",
       "      <td>1188.0</td>\n",
       "      <td>942.0</td>\n",
       "    </tr>\n",
       "    <tr>\n",
       "      <th>eddi_rasm</th>\n",
       "      <td>262.0</td>\n",
       "      <td>7.0</td>\n",
       "      <td>573.0</td>\n",
       "      <td>1206.0</td>\n",
       "      <td>952.0</td>\n",
       "    </tr>\n",
       "    <tr>\n",
       "      <th>eddi_rasm_inter</th>\n",
       "      <td>175.0</td>\n",
       "      <td>7.0</td>\n",
       "      <td>880.0</td>\n",
       "      <td>1190.0</td>\n",
       "      <td>748.0</td>\n",
       "    </tr>\n",
       "    <tr>\n",
       "      <th>fdsc_cfcss</th>\n",
       "      <td>384.0</td>\n",
       "      <td>15.0</td>\n",
       "      <td>777.0</td>\n",
       "      <td>703.0</td>\n",
       "      <td>1121.0</td>\n",
       "    </tr>\n",
       "    <tr>\n",
       "      <th>fdsc_rasm</th>\n",
       "      <td>327.0</td>\n",
       "      <td>20.0</td>\n",
       "      <td>806.0</td>\n",
       "      <td>768.0</td>\n",
       "      <td>1079.0</td>\n",
       "    </tr>\n",
       "    <tr>\n",
       "      <th>fdsc_rasm_inter</th>\n",
       "      <td>251.0</td>\n",
       "      <td>22.0</td>\n",
       "      <td>1100.0</td>\n",
       "      <td>773.0</td>\n",
       "      <td>854.0</td>\n",
       "    </tr>\n",
       "    <tr>\n",
       "      <th>seddi_cfcss</th>\n",
       "      <td>339.0</td>\n",
       "      <td>13.0</td>\n",
       "      <td>662.0</td>\n",
       "      <td>1005.0</td>\n",
       "      <td>981.0</td>\n",
       "    </tr>\n",
       "    <tr>\n",
       "      <th>seddi_rasm</th>\n",
       "      <td>287.0</td>\n",
       "      <td>4.0</td>\n",
       "      <td>601.0</td>\n",
       "      <td>1062.0</td>\n",
       "      <td>1046.0</td>\n",
       "    </tr>\n",
       "    <tr>\n",
       "      <th>seddi_rasm_inter</th>\n",
       "      <td>206.0</td>\n",
       "      <td>6.0</td>\n",
       "      <td>1001.0</td>\n",
       "      <td>1046.0</td>\n",
       "      <td>741.0</td>\n",
       "    </tr>\n",
       "    <tr>\n",
       "      <th>nopass</th>\n",
       "      <td>770.0</td>\n",
       "      <td>39.0</td>\n",
       "      <td>929.0</td>\n",
       "      <td>NaN</td>\n",
       "      <td>NaN</td>\n",
       "    </tr>\n",
       "  </tbody>\n",
       "</table>\n",
       "</div>"
      ],
      "text/plain": [
       "code                 -3    -2      -1       1       2\n",
       "eddi_cfcss        287.0   7.0   576.0  1188.0   942.0\n",
       "eddi_rasm         262.0   7.0   573.0  1206.0   952.0\n",
       "eddi_rasm_inter   175.0   7.0   880.0  1190.0   748.0\n",
       "fdsc_cfcss        384.0  15.0   777.0   703.0  1121.0\n",
       "fdsc_rasm         327.0  20.0   806.0   768.0  1079.0\n",
       "fdsc_rasm_inter   251.0  22.0  1100.0   773.0   854.0\n",
       "seddi_cfcss       339.0  13.0   662.0  1005.0   981.0\n",
       "seddi_rasm        287.0   4.0   601.0  1062.0  1046.0\n",
       "seddi_rasm_inter  206.0   6.0  1001.0  1046.0   741.0\n",
       "nopass            770.0  39.0   929.0     NaN     NaN"
      ]
     },
     "execution_count": 5,
     "metadata": {},
     "output_type": "execute_result"
    }
   ],
   "source": [
    "df_new.drop(0).transpose()"
   ]
  },
  {
   "cell_type": "code",
   "execution_count": 6,
   "metadata": {},
   "outputs": [
    {
     "data": {
      "text/html": [
       "<div>\n",
       "<style scoped>\n",
       "    .dataframe tbody tr th:only-of-type {\n",
       "        vertical-align: middle;\n",
       "    }\n",
       "\n",
       "    .dataframe tbody tr th {\n",
       "        vertical-align: top;\n",
       "    }\n",
       "\n",
       "    .dataframe thead th {\n",
       "        text-align: right;\n",
       "    }\n",
       "</style>\n",
       "<table border=\"1\" class=\"dataframe\">\n",
       "  <thead>\n",
       "    <tr style=\"text-align: right;\">\n",
       "      <th>code</th>\n",
       "      <th>-3</th>\n",
       "      <th>-2</th>\n",
       "      <th>-1</th>\n",
       "      <th>0</th>\n",
       "      <th>1</th>\n",
       "      <th>2</th>\n",
       "    </tr>\n",
       "  </thead>\n",
       "  <tbody>\n",
       "    <tr>\n",
       "      <th>eddi_cfcss</th>\n",
       "      <td>0.774692</td>\n",
       "      <td>0.018895</td>\n",
       "      <td>1.554782</td>\n",
       "      <td>91.902178</td>\n",
       "      <td>3.206737</td>\n",
       "      <td>2.542716</td>\n",
       "    </tr>\n",
       "    <tr>\n",
       "      <th>eddi_rasm</th>\n",
       "      <td>0.724277</td>\n",
       "      <td>0.019351</td>\n",
       "      <td>1.584011</td>\n",
       "      <td>91.706751</td>\n",
       "      <td>3.333886</td>\n",
       "      <td>2.631724</td>\n",
       "    </tr>\n",
       "    <tr>\n",
       "      <th>eddi_rasm_inter</th>\n",
       "      <td>0.579835</td>\n",
       "      <td>0.023193</td>\n",
       "      <td>2.915742</td>\n",
       "      <td>90.059972</td>\n",
       "      <td>3.942878</td>\n",
       "      <td>2.478380</td>\n",
       "    </tr>\n",
       "    <tr>\n",
       "      <th>fdsc_cfcss</th>\n",
       "      <td>0.903785</td>\n",
       "      <td>0.035304</td>\n",
       "      <td>1.828752</td>\n",
       "      <td>92.939183</td>\n",
       "      <td>1.654585</td>\n",
       "      <td>2.638392</td>\n",
       "    </tr>\n",
       "    <tr>\n",
       "      <th>fdsc_rasm</th>\n",
       "      <td>0.785246</td>\n",
       "      <td>0.048027</td>\n",
       "      <td>1.935499</td>\n",
       "      <td>92.795908</td>\n",
       "      <td>1.844248</td>\n",
       "      <td>2.591072</td>\n",
       "    </tr>\n",
       "    <tr>\n",
       "      <th>fdsc_rasm_inter</th>\n",
       "      <td>0.733039</td>\n",
       "      <td>0.064250</td>\n",
       "      <td>3.212523</td>\n",
       "      <td>91.238574</td>\n",
       "      <td>2.257528</td>\n",
       "      <td>2.494086</td>\n",
       "    </tr>\n",
       "    <tr>\n",
       "      <th>seddi_cfcss</th>\n",
       "      <td>0.869788</td>\n",
       "      <td>0.033355</td>\n",
       "      <td>1.698525</td>\n",
       "      <td>92.302758</td>\n",
       "      <td>2.578576</td>\n",
       "      <td>2.516998</td>\n",
       "    </tr>\n",
       "    <tr>\n",
       "      <th>seddi_rasm</th>\n",
       "      <td>0.781803</td>\n",
       "      <td>0.010896</td>\n",
       "      <td>1.637156</td>\n",
       "      <td>91.827840</td>\n",
       "      <td>2.892945</td>\n",
       "      <td>2.849360</td>\n",
       "    </tr>\n",
       "    <tr>\n",
       "      <th>seddi_rasm_inter</th>\n",
       "      <td>0.676053</td>\n",
       "      <td>0.019691</td>\n",
       "      <td>3.285091</td>\n",
       "      <td>90.154573</td>\n",
       "      <td>3.432772</td>\n",
       "      <td>2.431820</td>\n",
       "    </tr>\n",
       "    <tr>\n",
       "      <th>nopass</th>\n",
       "      <td>2.566667</td>\n",
       "      <td>0.130000</td>\n",
       "      <td>3.096667</td>\n",
       "      <td>94.206667</td>\n",
       "      <td>NaN</td>\n",
       "      <td>NaN</td>\n",
       "    </tr>\n",
       "  </tbody>\n",
       "</table>\n",
       "</div>"
      ],
      "text/plain": [
       "code                    -3        -2        -1          0         1         2\n",
       "eddi_cfcss        0.774692  0.018895  1.554782  91.902178  3.206737  2.542716\n",
       "eddi_rasm         0.724277  0.019351  1.584011  91.706751  3.333886  2.631724\n",
       "eddi_rasm_inter   0.579835  0.023193  2.915742  90.059972  3.942878  2.478380\n",
       "fdsc_cfcss        0.903785  0.035304  1.828752  92.939183  1.654585  2.638392\n",
       "fdsc_rasm         0.785246  0.048027  1.935499  92.795908  1.844248  2.591072\n",
       "fdsc_rasm_inter   0.733039  0.064250  3.212523  91.238574  2.257528  2.494086\n",
       "seddi_cfcss       0.869788  0.033355  1.698525  92.302758  2.578576  2.516998\n",
       "seddi_rasm        0.781803  0.010896  1.637156  91.827840  2.892945  2.849360\n",
       "seddi_rasm_inter  0.676053  0.019691  3.285091  90.154573  3.432772  2.431820\n",
       "nopass            2.566667  0.130000  3.096667  94.206667       NaN       NaN"
      ]
     },
     "execution_count": 6,
     "metadata": {},
     "output_type": "execute_result"
    }
   ],
   "source": [
    "(df_new / df_new.sum() * 100).transpose()"
   ]
  },
  {
   "cell_type": "code",
   "execution_count": 7,
   "metadata": {},
   "outputs": [
    {
     "data": {
      "text/html": [
       "<div>\n",
       "<style scoped>\n",
       "    .dataframe tbody tr th:only-of-type {\n",
       "        vertical-align: middle;\n",
       "    }\n",
       "\n",
       "    .dataframe tbody tr th {\n",
       "        vertical-align: top;\n",
       "    }\n",
       "\n",
       "    .dataframe thead th {\n",
       "        text-align: right;\n",
       "    }\n",
       "</style>\n",
       "<table border=\"1\" class=\"dataframe\">\n",
       "  <thead>\n",
       "    <tr style=\"text-align: right;\">\n",
       "      <th>code</th>\n",
       "      <th>-3</th>\n",
       "      <th>-2</th>\n",
       "      <th>-1</th>\n",
       "      <th>1</th>\n",
       "      <th>2</th>\n",
       "    </tr>\n",
       "  </thead>\n",
       "  <tbody>\n",
       "    <tr>\n",
       "      <th>eddi_cfcss</th>\n",
       "      <td>9.566667</td>\n",
       "      <td>0.233333</td>\n",
       "      <td>19.200000</td>\n",
       "      <td>39.600000</td>\n",
       "      <td>31.400000</td>\n",
       "    </tr>\n",
       "    <tr>\n",
       "      <th>eddi_rasm</th>\n",
       "      <td>8.733333</td>\n",
       "      <td>0.233333</td>\n",
       "      <td>19.100000</td>\n",
       "      <td>40.200000</td>\n",
       "      <td>31.733333</td>\n",
       "    </tr>\n",
       "    <tr>\n",
       "      <th>eddi_rasm_inter</th>\n",
       "      <td>5.833333</td>\n",
       "      <td>0.233333</td>\n",
       "      <td>29.333333</td>\n",
       "      <td>39.666667</td>\n",
       "      <td>24.933333</td>\n",
       "    </tr>\n",
       "    <tr>\n",
       "      <th>fdsc_cfcss</th>\n",
       "      <td>12.800000</td>\n",
       "      <td>0.500000</td>\n",
       "      <td>25.900000</td>\n",
       "      <td>23.433333</td>\n",
       "      <td>37.366667</td>\n",
       "    </tr>\n",
       "    <tr>\n",
       "      <th>fdsc_rasm</th>\n",
       "      <td>10.900000</td>\n",
       "      <td>0.666667</td>\n",
       "      <td>26.866667</td>\n",
       "      <td>25.600000</td>\n",
       "      <td>35.966667</td>\n",
       "    </tr>\n",
       "    <tr>\n",
       "      <th>fdsc_rasm_inter</th>\n",
       "      <td>8.366667</td>\n",
       "      <td>0.733333</td>\n",
       "      <td>36.666667</td>\n",
       "      <td>25.766667</td>\n",
       "      <td>28.466667</td>\n",
       "    </tr>\n",
       "    <tr>\n",
       "      <th>seddi_cfcss</th>\n",
       "      <td>11.300000</td>\n",
       "      <td>0.433333</td>\n",
       "      <td>22.066667</td>\n",
       "      <td>33.500000</td>\n",
       "      <td>32.700000</td>\n",
       "    </tr>\n",
       "    <tr>\n",
       "      <th>seddi_rasm</th>\n",
       "      <td>9.566667</td>\n",
       "      <td>0.133333</td>\n",
       "      <td>20.033333</td>\n",
       "      <td>35.400000</td>\n",
       "      <td>34.866667</td>\n",
       "    </tr>\n",
       "    <tr>\n",
       "      <th>seddi_rasm_inter</th>\n",
       "      <td>6.866667</td>\n",
       "      <td>0.200000</td>\n",
       "      <td>33.366667</td>\n",
       "      <td>34.866667</td>\n",
       "      <td>24.700000</td>\n",
       "    </tr>\n",
       "    <tr>\n",
       "      <th>nopass</th>\n",
       "      <td>44.303797</td>\n",
       "      <td>2.243959</td>\n",
       "      <td>53.452244</td>\n",
       "      <td>NaN</td>\n",
       "      <td>NaN</td>\n",
       "    </tr>\n",
       "  </tbody>\n",
       "</table>\n",
       "</div>"
      ],
      "text/plain": [
       "code                     -3        -2         -1          1          2\n",
       "eddi_cfcss         9.566667  0.233333  19.200000  39.600000  31.400000\n",
       "eddi_rasm          8.733333  0.233333  19.100000  40.200000  31.733333\n",
       "eddi_rasm_inter    5.833333  0.233333  29.333333  39.666667  24.933333\n",
       "fdsc_cfcss        12.800000  0.500000  25.900000  23.433333  37.366667\n",
       "fdsc_rasm         10.900000  0.666667  26.866667  25.600000  35.966667\n",
       "fdsc_rasm_inter    8.366667  0.733333  36.666667  25.766667  28.466667\n",
       "seddi_cfcss       11.300000  0.433333  22.066667  33.500000  32.700000\n",
       "seddi_rasm         9.566667  0.133333  20.033333  35.400000  34.866667\n",
       "seddi_rasm_inter   6.866667  0.200000  33.366667  34.866667  24.700000\n",
       "nopass            44.303797  2.243959  53.452244        NaN        NaN"
      ]
     },
     "execution_count": 7,
     "metadata": {},
     "output_type": "execute_result"
    }
   ],
   "source": [
    "df_perc = (df_new.drop(0) / df_new.drop(0).sum() * 100).transpose()\n",
    "df_perc"
   ]
  },
  {
   "cell_type": "code",
   "execution_count": 8,
   "metadata": {},
   "outputs": [
    {
     "name": "stdout",
     "output_type": "stream",
     "text": [
      "Percentage of faults detected by the SIHFT mechanism, considering only effective SEUs.\n"
     ]
    },
    {
     "data": {
      "text/plain": [
       "eddi_cfcss          71.000000\n",
       "eddi_rasm           71.933333\n",
       "eddi_rasm_inter     64.600000\n",
       "fdsc_cfcss          60.800000\n",
       "fdsc_rasm           61.566667\n",
       "fdsc_rasm_inter     54.233333\n",
       "seddi_cfcss         66.200000\n",
       "seddi_rasm          70.266667\n",
       "seddi_rasm_inter    59.566667\n",
       "nopass               0.000000\n",
       "dtype: float64"
      ]
     },
     "execution_count": 8,
     "metadata": {},
     "output_type": "execute_result"
    }
   ],
   "source": [
    "print(\"Percentage of faults detected by the SIHFT mechanism, considering only effective SEUs.\")\n",
    "df_new.drop([0, -1, -2, -3]).sum() / df_new.drop(0).sum() * 100"
   ]
  },
  {
   "cell_type": "code",
   "execution_count": 9,
   "metadata": {},
   "outputs": [
    {
     "name": "stdout",
     "output_type": "stream",
     "text": [
      "Percentage of faults detected by the SIHFT+Watchdog mechanism, considering only effective SEUs.\n"
     ]
    },
    {
     "data": {
      "text/plain": [
       "eddi_cfcss          80.566667\n",
       "eddi_rasm           80.666667\n",
       "eddi_rasm_inter     70.433333\n",
       "fdsc_cfcss          73.600000\n",
       "fdsc_rasm           72.466667\n",
       "fdsc_rasm_inter     62.600000\n",
       "seddi_cfcss         77.500000\n",
       "seddi_rasm          79.833333\n",
       "seddi_rasm_inter    66.433333\n",
       "nopass              44.303797\n",
       "dtype: float64"
      ]
     },
     "execution_count": 9,
     "metadata": {},
     "output_type": "execute_result"
    }
   ],
   "source": [
    "print(\"Percentage of faults detected by the SIHFT+Watchdog mechanism, considering only effective SEUs.\")\n",
    "df_new.drop([0, -1, -2]).sum() / df_new.drop(0).sum() * 100"
   ]
  },
  {
   "cell_type": "code",
   "execution_count": 10,
   "metadata": {},
   "outputs": [
    {
     "data": {
      "text/plain": [
       "eddi_cfcss          37047.0\n",
       "eddi_rasm           36174.0\n",
       "eddi_rasm_inter     30181.0\n",
       "fdsc_cfcss          42488.0\n",
       "fdsc_rasm           41643.0\n",
       "fdsc_rasm_inter     34241.0\n",
       "seddi_cfcss         38975.0\n",
       "seddi_rasm          36710.0\n",
       "seddi_rasm_inter    30471.0\n",
       "nopass              30000.0\n",
       "dtype: float64"
      ]
     },
     "execution_count": 10,
     "metadata": {},
     "output_type": "execute_result"
    }
   ],
   "source": [
    "df_new.sum()"
   ]
  },
  {
   "attachments": {},
   "cell_type": "markdown",
   "metadata": {},
   "source": [
    "# Plotting the data"
   ]
  },
  {
   "cell_type": "code",
   "execution_count": 11,
   "metadata": {},
   "outputs": [
    {
     "data": {
      "image/png": "[encoded data removed]",
      "text/plain": [
       "<Figure size 640x480 with 1 Axes>"
      ]
     },
     "metadata": {},
     "output_type": "display_data"
    }
   ],
   "source": [
    "ax = df_perc.drop(['fdsc_cfcss', 'fdsc_rasm', 'fdsc_rasm_inter',\n",
    "              'seddi_cfcss', 'seddi_rasm', 'seddi_rasm_inter', 'nopass']).plot(y=[-2], kind=\"bar\")\n",
    "ax.set_title(\"EDDI SDC ratio\", fontdict={'fontsize': 30})\n",
    "ax.tick_params(axis='both', which='major', labelsize=30)\n",
    "ax.get_legend().remove()\n",
    "labels = ['CFCSS', 'RASM', 'inter-RASM']\n",
    "ax.set_xticklabels(labels)\n",
    "plt.savefig(\"figures/eddi_sdc.svg\",bbox_inches = 'tight')"
   ]
  },
  {
   "cell_type": "code",
   "execution_count": 12,
   "metadata": {},
   "outputs": [
    {
     "data": {
      "image/png": "[encoded data removed]",
      "text/plain": [
       "<Figure size 640x480 with 1 Axes>"
      ]
     },
     "metadata": {},
     "output_type": "display_data"
    }
   ],
   "source": [
    "ax = df_perc.drop(['eddi_cfcss', 'eddi_rasm', 'eddi_rasm_inter',\n",
    "              'seddi_cfcss', 'seddi_rasm', 'seddi_rasm_inter', 'nopass']).plot(y=[-2], kind=\"bar\")\n",
    "ax.set_title(\"FDSC SDC ratio\", fontdict={'fontsize': 30})\n",
    "ax.tick_params(axis='both', which='major', labelsize=30)\n",
    "ax.get_legend().remove()\n",
    "labels = ['CFCSS', 'RASM', 'inter-RASM']\n",
    "ax.set_xticklabels(labels)\n",
    "plt.savefig(\"figures/fdsc_sdc.svg\",bbox_inches = 'tight')"
   ]
  },
  {
   "cell_type": "code",
   "execution_count": 13,
   "metadata": {},
   "outputs": [
    {
     "data": {
      "image/png": "[encoded data removed]",
      "text/plain": [
       "<Figure size 640x480 with 1 Axes>"
      ]
     },
     "metadata": {},
     "output_type": "display_data"
    }
   ],
   "source": [
    "ax = df_perc.drop(['fdsc_cfcss', 'fdsc_rasm', 'fdsc_rasm_inter',\n",
    "              'eddi_cfcss', 'eddi_rasm', 'eddi_rasm_inter', 'nopass']).plot(y=[-2], kind=\"bar\")\n",
    "ax.set_title(\"sEDDI SDC ratio\", fontdict={'fontsize': 30})\n",
    "ax.tick_params(axis='both', which='major', labelsize=30)\n",
    "ax.get_legend().remove()\n",
    "labels = ['CFCSS', 'RASM', 'inter-RASM']\n",
    "ax.set_xticklabels(labels)\n",
    "plt.savefig(\"figures/seddi_sdc.svg\",bbox_inches = 'tight')"
   ]
  }
 ],
 "metadata": {
  "kernelspec": {
   "display_name": "venv",
   "language": "python",
   "name": "python3"
  },
  "language_info": {
   "codemirror_mode": {
    "name": "ipython",
    "version": 3
   },
   "file_extension": ".py",
   "mimetype": "text/x-python",
   "name": "python",
   "nbconvert_exporter": "python",
   "pygments_lexer": "ipython3",
   "version": "3.10.6"
  },
  "orig_nbformat": 4,
  "vscode": {
   "interpreter": {
    "hash": "789ecf59647cc197d319502b5f5a8374996d5cdf8dfc968a3aebc710a7f2e5fe"
   }
  }
 },
 "nbformat": 4,
 "nbformat_minor": 2
}
